{
 "cells": [
  {
   "cell_type": "code",
   "execution_count": 1,
   "id": "8d075359",
   "metadata": {},
   "outputs": [],
   "source": [
    "import pickle"
   ]
  },
  {
   "cell_type": "code",
   "execution_count": 2,
   "id": "e041f65c",
   "metadata": {},
   "outputs": [
    {
     "name": "stdout",
     "output_type": "stream",
     "text": [
      "R&D:2000\n",
      "Admin400\n",
      "Marketing 4000\n",
      "State_flo 0 or 1:0\n",
      "State_new 0 or 1:0\n"
     ]
    }
   ],
   "source": [
    "load_model=pickle.load(open(\"FinalModel_SVM.sav\",'rb'))\n",
    "rd_input=float(input(\"R&D:\"))\n",
    "admin_input=float(input(\"Admin\"))\n",
    "mark_input=float(input(\"Marketing \"))\n",
    "fol_input=int(input(\"State_flo 0 or 1:\"))\n",
    "new_input=int(input(\"State_new 0 or 1:\"))"
   ]
  },
  {
   "cell_type": "code",
   "execution_count": 4,
   "id": "5448e1bf",
   "metadata": {},
   "outputs": [
    {
     "name": "stderr",
     "output_type": "stream",
     "text": [
      "C:\\Anaconda\\Lib\\site-packages\\sklearn\\base.py:464: UserWarning: X does not have valid feature names, but SVR was fitted with feature names\n",
      "  warnings.warn(\n"
     ]
    }
   ],
   "source": [
    "result=load_model.predict([[rd_input,admin_input,mark_input,fol_input,new_input]])"
   ]
  },
  {
   "cell_type": "code",
   "execution_count": 5,
   "id": "091dfafb",
   "metadata": {},
   "outputs": [
    {
     "data": {
      "text/plain": [
       "array([48138.29124714])"
      ]
     },
     "execution_count": 5,
     "metadata": {},
     "output_type": "execute_result"
    }
   ],
   "source": [
    "result"
   ]
  },
  {
   "cell_type": "code",
   "execution_count": null,
   "id": "e7584965",
   "metadata": {},
   "outputs": [],
   "source": []
  }
 ],
 "metadata": {
  "kernelspec": {
   "display_name": "Python 3 (ipykernel)",
   "language": "python",
   "name": "python3"
  },
  "language_info": {
   "codemirror_mode": {
    "name": "ipython",
    "version": 3
   },
   "file_extension": ".py",
   "mimetype": "text/x-python",
   "name": "python",
   "nbconvert_exporter": "python",
   "pygments_lexer": "ipython3",
   "version": "3.11.5"
  }
 },
 "nbformat": 4,
 "nbformat_minor": 5
}
